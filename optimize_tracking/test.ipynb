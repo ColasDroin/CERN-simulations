{
 "cells": [
  {
   "cell_type": "markdown",
   "metadata": {},
   "source": [
    "### Standard imports"
   ]
  },
  {
   "cell_type": "code",
   "execution_count": 1,
   "metadata": {},
   "outputs": [],
   "source": [
    "# Standard modules\n",
    "import os\n",
    "import numpy as np\n",
    "import pandas as pd\n",
    "import matplotlib.pyplot as plt\n",
    "import seaborn as sns\n",
    "import itertools\n",
    "\n",
    "# CERN modules\n",
    "from generate_line import generate_line\n",
    "from track import track\n",
    "\n",
    "\n",
    "import xobjects as xo\n",
    "import xtrack as xt\n",
    "import xpart as xp"
   ]
  },
  {
   "cell_type": "code",
   "execution_count": 4,
   "metadata": {},
   "outputs": [],
   "source": [
    "a = xt.Multipole(knl=[0, 1.], ksl=[0,0])"
   ]
  },
  {
   "cell_type": "code",
   "execution_count": 3,
   "metadata": {},
   "outputs": [
    {
     "name": "stdout",
     "output_type": "stream",
     "text": [
      "generating ./9ffbdcf0ae5c479380bf1db745886ddb.c\n",
      "the current directory is '/home/cdroin/CERN-simulations/optimize_tracking'\n"
     ]
    }
   ],
   "source": [
    "## Generate a simple line\n",
    "line = xt.Line(\n",
    "    elements=[xt.Drift(length=2.),\n",
    "              xt.Multipole(knl=[0, 1.], ksl=[0,0]),\n",
    "              xt.Drift(length=1.),\n",
    "              xt.Multipole(knl=[0, -1.], ksl=[0,0])],\n",
    "    element_names=['drift_0', 'quad_0', 'drift_1', 'quad_1'])\n",
    "\n",
    "## Attach a reference particle to the line (optional)\n",
    "## (defines the reference mass, charge and energy)\n",
    "line.particle_ref = xp.Particles(p0c=6500e9, #eV\n",
    "                                 q0=1, mass0=xp.PROTON_MASS_EV)\n",
    "\n",
    "## Choose a context\n",
    "context = xo.ContextCpu()         # For CPU\n",
    "# context = xo.ContextCupy()      # For CUDA GPUs\n",
    "# context = xo.ContextPyopencl()  # For OpenCL GPUs\n",
    "\n",
    "## Transfer lattice on context and compile tracking code\n",
    "line.build_tracker(_context=context)\n",
    "\n",
    "## Build particle object on context\n",
    "n_part = 200\n",
    "particles = xp.Particles(p0c=6500e9, #eV\n",
    "                        q0=1, mass0=xp.PROTON_MASS_EV,\n",
    "                        x=np.random.uniform(-1e-3, 1e-3, n_part),\n",
    "                        px=np.random.uniform(-1e-5, 1e-5, n_part),\n",
    "                        y=np.random.uniform(-2e-3, 2e-3, n_part),\n",
    "                        py=np.random.uniform(-3e-5, 3e-5, n_part),\n",
    "                        zeta=np.random.uniform(-1e-2, 1e-2, n_part),\n",
    "                        delta=np.random.uniform(-1e-4, 1e-4, n_part),\n",
    "                        _context=context)\n",
    "\n",
    "# ## Track (saving turn-by-turn data)\n",
    "# n_turns = 100\n",
    "# line.track(particles, num_turns=n_turns,\n",
    "#               turn_by_turn_monitor=True)\n",
    "\n",
    "# ## Turn-by-turn data is available at:\n",
    "# line.record_last_track.x"
   ]
  },
  {
   "cell_type": "code",
   "execution_count": null,
   "metadata": {},
   "outputs": [],
   "source": []
  }
 ],
 "metadata": {
  "kernelspec": {
   "display_name": "base",
   "language": "python",
   "name": "python3"
  },
  "language_info": {
   "codemirror_mode": {
    "name": "ipython",
    "version": 3
   },
   "file_extension": ".py",
   "mimetype": "text/x-python",
   "name": "python",
   "nbconvert_exporter": "python",
   "pygments_lexer": "ipython3",
   "version": "3.10.8"
  },
  "orig_nbformat": 4
 },
 "nbformat": 4,
 "nbformat_minor": 2
}
