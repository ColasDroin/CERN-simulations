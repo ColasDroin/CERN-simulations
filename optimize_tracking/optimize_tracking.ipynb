{
 "cells": [
  {
   "cell_type": "markdown",
   "metadata": {},
   "source": [
    "### Standard imports"
   ]
  },
  {
   "cell_type": "code",
   "execution_count": 1,
   "metadata": {},
   "outputs": [],
   "source": [
    "# Standard modules\n",
    "import os\n",
    "import numpy as np\n",
    "import pandas as pd\n",
    "import matplotlib.pyplot as plt\n",
    "import seaborn as sns\n",
    "import itertools\n",
    "\n",
    "# CERN modules\n",
    "from generate_line import generate_line\n",
    "from track import track"
   ]
  },
  {
   "attachments": {},
   "cell_type": "markdown",
   "metadata": {},
   "source": [
    "### Build particles distribution"
   ]
  },
  {
   "cell_type": "code",
   "execution_count": 2,
   "metadata": {},
   "outputs": [],
   "source": [
    "r_min = 2\n",
    "r_max = 10\n",
    "radial_list = np.linspace(r_min, r_max, 2*16*(r_max-r_min), endpoint=False)\n",
    "\n",
    "n_angles = 5 \n",
    "theta_list = np.linspace(0, 90, n_angles+2)[1:-1] # remove straight lines (uncoupled)\n",
    "\n",
    "particle_list = [(particle_id, l[0], l[1]) for particle_id, l in enumerate(itertools.product(radial_list, theta_list))]\n",
    "df_total = pd.DataFrame(particle_list, columns=['particle_id','normalized amplitude in xy-plane','angle in xy-plane [deg]'])\n",
    "particle_list_splitted = list(np.array_split(particle_list, 15))\n",
    "\n",
    "l_df = [pd.DataFrame(particle_part,\n",
    "                columns=['particle_id','normalized amplitude in xy-plane',\n",
    "                         'angle in xy-plane [deg]']) for particle_part in particle_list_splitted]"
   ]
  },
  {
   "cell_type": "code",
   "execution_count": 3,
   "metadata": {},
   "outputs": [
    {
     "name": "stderr",
     "output_type": "stream",
     "text": [
      "rm: cannot remove 'temp': No such file or directory\n",
      "GC Warning: Repeated allocation of very large block (appr. size 192512):\n",
      "\tMay lead to memory leak and poor performance\n",
      "GC Warning: Repeated allocation of very large block (appr. size 196608):\n",
      "\tMay lead to memory leak and poor performance\n",
      "GC Warning: Repeated allocation of very large block (appr. size 196608):\n",
      "\tMay lead to memory leak and poor performance\n",
      "rm: cannot remove 'fc.*': No such file or directory\n",
      "mv: 'fc.2' and './fc.2' are the same file\n",
      "mv: 'fc.3' and './fc.3' are the same file\n",
      "mv: 'fc.3.aux' and './fc.3.aux' are the same file\n",
      "mv: 'fc.34' and './fc.34' are the same file\n",
      "mv: 'fc.8' and './fc.8' are the same file\n",
      "595f63ca5beb4f3ca0cac616ffc82a87.c:4124: warning: \"_GNU_SOURCE\" redefined\n",
      " 4124 | #  define _GNU_SOURCE // enable GNU libc NAN extension if possible\n",
      "      | \n",
      "In file included from 595f63ca5beb4f3ca0cac616ffc82a87.c:50:\n",
      "/home/cdroin/miniconda3/include/python3.10/pyconfig.h:1621: note: this is the location of the previous definition\n",
      " 1621 | #define _GNU_SOURCE 1\n",
      "      | \n",
      "68dd90eaa98245b49a291427b7b40a88.c:3446: warning: \"_GNU_SOURCE\" redefined\n",
      " 3446 | #  define _GNU_SOURCE // enable GNU libc NAN extension if possible\n",
      "      | \n",
      "In file included from 68dd90eaa98245b49a291427b7b40a88.c:50:\n",
      "/home/cdroin/miniconda3/include/python3.10/pyconfig.h:1621: note: this is the location of the previous definition\n",
      " 1621 | #define _GNU_SOURCE 1\n",
      "      | \n",
      "ddc5c319807147b1bf7d0b797847527a.c:5056: warning: \"_GNU_SOURCE\" redefined\n",
      " 5056 | #  define _GNU_SOURCE // enable GNU libc NAN extension if possible\n",
      "      | \n",
      "In file included from ddc5c319807147b1bf7d0b797847527a.c:50:\n",
      "/home/cdroin/miniconda3/include/python3.10/pyconfig.h:1621: note: this is the location of the previous definition\n",
      " 1621 | #define _GNU_SOURCE 1\n",
      "      | \n"
     ]
    }
   ],
   "source": [
    "%%capture \n",
    "# Command above needed to prevent a gigantic output\n",
    "\n",
    "# Generate the line\n",
    "tracker, line_bb_for_tracking_dict = generate_line()\n",
    "\n",
    "# Remove all the temporary files\n",
    "os.system('rm -rf final_* modules optics_repository optics_toolkit tools tracking_tools temp mad_collider.log __pycache__ twiss* errors fc* optics_orbit_at*')"
   ]
  },
  {
   "cell_type": "code",
   "execution_count": 4,
   "metadata": {},
   "outputs": [
    {
     "name": "stdout",
     "output_type": "stream",
     "text": [
      "Done loading line from dict.           \n",
      "generating ./ac60cdb601d04e3890e0484c8f4de77b.c\n",
      "the current directory is '/home/cdroin/CERN-simulations/optimize_tracking'\n"
     ]
    },
    {
     "name": "stderr",
     "output_type": "stream",
     "text": [
      "ac60cdb601d04e3890e0484c8f4de77b.c:4124: warning: \"_GNU_SOURCE\" redefined\n",
      " 4124 | #  define _GNU_SOURCE // enable GNU libc NAN extension if possible\n",
      "      | \n",
      "In file included from ac60cdb601d04e3890e0484c8f4de77b.c:50:\n",
      "/home/cdroin/miniconda3/include/python3.10/pyconfig.h:1621: note: this is the location of the previous definition\n",
      " 1621 | #define _GNU_SOURCE 1\n",
      "      | \n"
     ]
    },
    {
     "name": "stdout",
     "output_type": "stream",
     "text": [
      "Elapsed time: 0.9603822231292725 s\n",
      "Elapsed time per particle per turn: 111.67235152665958 us\n"
     ]
    }
   ],
   "source": [
    "track(line_bb_for_tracking_dict, l_df[0], 2.5e-6, 2.5e-6, 27.e-5, 100)"
   ]
  },
  {
   "cell_type": "code",
   "execution_count": null,
   "metadata": {},
   "outputs": [],
   "source": []
  }
 ],
 "metadata": {
  "kernelspec": {
   "display_name": "base",
   "language": "python",
   "name": "python3"
  },
  "language_info": {
   "codemirror_mode": {
    "name": "ipython",
    "version": 3
   },
   "file_extension": ".py",
   "mimetype": "text/x-python",
   "name": "python",
   "nbconvert_exporter": "python",
   "pygments_lexer": "ipython3",
   "version": "3.10.8"
  },
  "orig_nbformat": 4
 },
 "nbformat": 4,
 "nbformat_minor": 2
}
