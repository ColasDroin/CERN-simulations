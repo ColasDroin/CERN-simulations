{
 "cells": [
  {
   "cell_type": "markdown",
   "metadata": {},
   "source": [
    "### Standard imports"
   ]
  },
  {
   "cell_type": "code",
   "execution_count": 1,
   "metadata": {},
   "outputs": [],
   "source": [
    "import os\n",
    "import numpy as np\n",
    "import pandas as pd\n",
    "import matplotlib.pyplot as plt\n",
    "import seaborn as sns\n",
    "import itertools\n",
    "from generate_line import generate_line"
   ]
  },
  {
   "attachments": {},
   "cell_type": "markdown",
   "metadata": {},
   "source": [
    "### Build particles distribution"
   ]
  },
  {
   "cell_type": "code",
   "execution_count": 2,
   "metadata": {},
   "outputs": [],
   "source": [
    "# tracking scans\n",
    "r_min = 2\n",
    "r_max = 10\n",
    "radial_list = np.linspace(r_min, r_max, 2*16*(r_max-r_min), endpoint=False)\n",
    "\n",
    "n_angles = 5\n",
    "theta_list = np.linspace(0, 90, n_angles+2)[1:-1]\n",
    "\n",
    "particle_list = [(particle_id, ii[0], ii[1]) for particle_id, ii in enumerate(itertools.product(radial_list, theta_list))]\n",
    "particle_list = list(np.array_split(particle_list, 15))"
   ]
  },
  {
   "cell_type": "code",
   "execution_count": 3,
   "metadata": {},
   "outputs": [
    {
     "name": "stderr",
     "output_type": "stream",
     "text": [
      "rm: cannot remove 'temp': No such file or directory\n",
      "GC Warning: Repeated allocation of very large block (appr. size 192512):\n",
      "\tMay lead to memory leak and poor performance\n",
      "GC Warning: Repeated allocation of very large block (appr. size 196608):\n",
      "\tMay lead to memory leak and poor performance\n",
      "rm: cannot remove 'fc.*': No such file or directory\n",
      "mv: 'fc.2' and './fc.2' are the same file\n",
      "mv: 'fc.3' and './fc.3' are the same file\n",
      "mv: 'fc.3.aux' and './fc.3.aux' are the same file\n",
      "mv: 'fc.34' and './fc.34' are the same file\n",
      "mv: 'fc.8' and './fc.8' are the same file\n",
      "c59b92914ed943bbb381086bc65a4cb7.c:5187: warning: \"_GNU_SOURCE\" redefined\n",
      " 5187 | #  define _GNU_SOURCE // enable GNU libc NAN extension if possible\n",
      "      | \n",
      "In file included from c59b92914ed943bbb381086bc65a4cb7.c:50:\n",
      "/home/cdroin/miniconda3/include/python3.10/pyconfig.h:1621: note: this is the location of the previous definition\n",
      " 1621 | #define _GNU_SOURCE 1\n",
      "      | \n",
      "818eab4757934cf5b873d04f30735b1f.c:3446: warning: \"_GNU_SOURCE\" redefined\n",
      " 3446 | #  define _GNU_SOURCE // enable GNU libc NAN extension if possible\n",
      "      | \n",
      "In file included from 818eab4757934cf5b873d04f30735b1f.c:50:\n",
      "/home/cdroin/miniconda3/include/python3.10/pyconfig.h:1621: note: this is the location of the previous definition\n",
      " 1621 | #define _GNU_SOURCE 1\n",
      "      | \n",
      "fa7dfa9ada67441db28390d8f01e99f1.c:5056: warning: \"_GNU_SOURCE\" redefined\n",
      " 5056 | #  define _GNU_SOURCE // enable GNU libc NAN extension if possible\n",
      "      | \n",
      "In file included from fa7dfa9ada67441db28390d8f01e99f1.c:50:\n",
      "/home/cdroin/miniconda3/include/python3.10/pyconfig.h:1621: note: this is the location of the previous definition\n",
      " 1621 | #define _GNU_SOURCE 1\n",
      "      | \n"
     ]
    }
   ],
   "source": [
    "%%capture \n",
    "# Command above needed to prevent a gigantic output\n",
    "tracker, line_bb_for_tracking_dict = generate_line()"
   ]
  },
  {
   "cell_type": "code",
   "execution_count": 4,
   "metadata": {},
   "outputs": [
    {
     "data": {
      "text/plain": [
       "0"
      ]
     },
     "execution_count": 4,
     "metadata": {},
     "output_type": "execute_result"
    }
   ],
   "source": [
    "# Remove all the temporary files\n",
    "os.system('rm -rf final_* modules optics_repository optics_toolkit tools tracking_tools temp mad_collider.log __pycache__ twiss* errors fc* optics_orbit_at*')"
   ]
  },
  {
   "cell_type": "code",
   "execution_count": null,
   "metadata": {},
   "outputs": [],
   "source": []
  }
 ],
 "metadata": {
  "kernelspec": {
   "display_name": "base",
   "language": "python",
   "name": "python3"
  },
  "language_info": {
   "codemirror_mode": {
    "name": "ipython",
    "version": 3
   },
   "file_extension": ".py",
   "mimetype": "text/x-python",
   "name": "python",
   "nbconvert_exporter": "python",
   "pygments_lexer": "ipython3",
   "version": "3.10.8"
  },
  "orig_nbformat": 4
 },
 "nbformat": 4,
 "nbformat_minor": 2
}
