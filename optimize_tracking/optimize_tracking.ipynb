{
 "cells": [
  {
   "cell_type": "markdown",
   "metadata": {},
   "source": [
    "### Standard imports"
   ]
  },
  {
   "cell_type": "code",
   "execution_count": 2,
   "metadata": {},
   "outputs": [],
   "source": [
    "# Standard modules\n",
    "import os\n",
    "import numpy as np\n",
    "import pandas as pd\n",
    "import matplotlib.pyplot as plt\n",
    "import seaborn as sns\n",
    "import itertools\n",
    "\n",
    "# CERN modules\n",
    "from generate_line import generate_line\n",
    "from track import track"
   ]
  },
  {
   "attachments": {},
   "cell_type": "markdown",
   "metadata": {},
   "source": [
    "### Build particles distribution"
   ]
  },
  {
   "cell_type": "code",
   "execution_count": 2,
   "metadata": {},
   "outputs": [],
   "source": [
    "r_min = 2\n",
    "r_max = 10\n",
    "radial_list = np.linspace(r_min, r_max, 2*16*(r_max-r_min), endpoint=False)\n",
    "\n",
    "n_angles = 5 \n",
    "theta_list = np.linspace(0, 90, n_angles+2)[1:-1] # remove straight lines (uncoupled)\n",
    "\n",
    "particle_list = [(particle_id, l[0], l[1]) for particle_id, l in enumerate(itertools.product(radial_list, theta_list))]\n",
    "df_total = pd.DataFrame(particle_list, columns=['particle_id','normalized amplitude in xy-plane','angle in xy-plane [deg]'])\n",
    "particle_list_splitted = list(np.array_split(particle_list, 15))\n",
    "\n",
    "l_df = [pd.DataFrame(particle_part,\n",
    "                columns=['particle_id','normalized amplitude in xy-plane',\n",
    "                         'angle in xy-plane [deg]']) for particle_part in particle_list_splitted]"
   ]
  },
  {
   "attachments": {},
   "cell_type": "markdown",
   "metadata": {},
   "source": [
    "### Build line"
   ]
  },
  {
   "cell_type": "code",
   "execution_count": 3,
   "metadata": {},
   "outputs": [
    {
     "name": "stderr",
     "output_type": "stream",
     "text": [
      "GC Warning: Repeated allocation of very large block (appr. size 192512):\n",
      "\tMay lead to memory leak and poor performance\n",
      "GC Warning: Repeated allocation of very large block (appr. size 196608):\n",
      "\tMay lead to memory leak and poor performance\n",
      "GC Warning: Repeated allocation of very large block (appr. size 196608):\n",
      "\tMay lead to memory leak and poor performance\n"
     ]
    },
    {
     "ename": "KeyboardInterrupt",
     "evalue": "",
     "output_type": "error",
     "traceback": [
      "\u001b[0;31m---------------------------------------------------------------------------\u001b[0m",
      "\u001b[0;31mKeyboardInterrupt\u001b[0m                         Traceback (most recent call last)",
      "Cell \u001b[0;32mIn[3], line 4\u001b[0m\n\u001b[1;32m      1\u001b[0m \u001b[39m# Command above needed to prevent a gigantic output\u001b[39;00m\n\u001b[1;32m      2\u001b[0m \n\u001b[1;32m      3\u001b[0m \u001b[39m# Generate the line\u001b[39;00m\n\u001b[0;32m----> 4\u001b[0m tracker, line_bb_for_tracking_dict \u001b[39m=\u001b[39m generate_line()\n\u001b[1;32m      6\u001b[0m \u001b[39m# Remove all the temporary files\u001b[39;00m\n\u001b[1;32m      7\u001b[0m os\u001b[39m.\u001b[39msystem(\u001b[39m'\u001b[39m\u001b[39mrm -rf final_* modules optics_repository optics_toolkit tools tracking_tools temp mad_collider.log __pycache__ twiss* errors fc* optics_orbit_at*\u001b[39m\u001b[39m'\u001b[39m)\n",
      "File \u001b[0;32m~/CERN-simulations/optimize_tracking/generate_line.py:493\u001b[0m, in \u001b[0;36mgenerate_line\u001b[0;34m()\u001b[0m\n\u001b[1;32m    490\u001b[0m     mad_track\u001b[39m.\u001b[39minput(\u001b[39m\"\u001b[39m\u001b[39mcall, file=\u001b[39m\u001b[39m'\u001b[39m\u001b[39mtools/rematchCOarc.madx\u001b[39m\u001b[39m'\u001b[39m\u001b[39m;\u001b[39m\u001b[39m\"\u001b[39m)\n\u001b[1;32m    492\u001b[0m \u001b[39m# Match tunes and chromaticities\u001b[39;00m\n\u001b[0;32m--> 493\u001b[0m pm\u001b[39m.\u001b[39;49mmatch_tune_and_chromaticity(\n\u001b[1;32m    494\u001b[0m     mad_track,\n\u001b[1;32m    495\u001b[0m     q1\u001b[39m=\u001b[39;49mconfiguration[\u001b[39m\"\u001b[39;49m\u001b[39mqx0\u001b[39;49m\u001b[39m\"\u001b[39;49m],\n\u001b[1;32m    496\u001b[0m     q2\u001b[39m=\u001b[39;49mconfiguration[\u001b[39m\"\u001b[39;49m\u001b[39mqy0\u001b[39;49m\u001b[39m\"\u001b[39;49m],\n\u001b[1;32m    497\u001b[0m     dq1\u001b[39m=\u001b[39;49mconfiguration[\u001b[39m\"\u001b[39;49m\u001b[39mchromaticity_x\u001b[39;49m\u001b[39m\"\u001b[39;49m],\n\u001b[1;32m    498\u001b[0m     dq2\u001b[39m=\u001b[39;49mconfiguration[\u001b[39m\"\u001b[39;49m\u001b[39mchromaticity_y\u001b[39;49m\u001b[39m\"\u001b[39;49m],\n\u001b[1;32m    499\u001b[0m     tune_knob1_name\u001b[39m=\u001b[39;49mknob_names[\u001b[39m\"\u001b[39;49m\u001b[39mqknob_1\u001b[39;49m\u001b[39m\"\u001b[39;49m][sequence_to_track],\n\u001b[1;32m    500\u001b[0m     tune_knob2_name\u001b[39m=\u001b[39;49mknob_names[\u001b[39m\"\u001b[39;49m\u001b[39mqknob_2\u001b[39;49m\u001b[39m\"\u001b[39;49m][sequence_to_track],\n\u001b[1;32m    501\u001b[0m     chromaticity_knob1_name\u001b[39m=\u001b[39;49mknob_names[\u001b[39m\"\u001b[39;49m\u001b[39mchromknob_1\u001b[39;49m\u001b[39m\"\u001b[39;49m][sequence_to_track],\n\u001b[1;32m    502\u001b[0m     chromaticity_knob2_name\u001b[39m=\u001b[39;49mknob_names[\u001b[39m\"\u001b[39;49m\u001b[39mchromknob_2\u001b[39;49m\u001b[39m\"\u001b[39;49m][sequence_to_track],\n\u001b[1;32m    503\u001b[0m     sequence_name\u001b[39m=\u001b[39;49msequence_to_track,\n\u001b[1;32m    504\u001b[0m     skip_use\u001b[39m=\u001b[39;49m\u001b[39mTrue\u001b[39;49;00m,\n\u001b[1;32m    505\u001b[0m )\n\u001b[1;32m    507\u001b[0m \u001b[39m# Check strength limits\u001b[39;00m\n\u001b[1;32m    508\u001b[0m \u001b[39mif\u001b[39;00m enable_imperfections:\n",
      "File \u001b[0;32m~/CERN-simulations/toolkit_LHC/lhcmask/pymask/tunechroma.py:46\u001b[0m, in \u001b[0;36mmatch_tune_and_chromaticity\u001b[0;34m(mad, q1, q2, dq1, dq2, tune_knob1_name, tune_knob2_name, chromaticity_knob1_name, chromaticity_knob2_name, sequence_name, skip_use)\u001b[0m\n\u001b[1;32m     40\u001b[0m     mad\u001b[39m.\u001b[39muse(sequence_name)\n\u001b[1;32m     42\u001b[0m match_tune(mad, q1, q2,\n\u001b[1;32m     43\u001b[0m     tune_knob1_name, tune_knob2_name,\n\u001b[1;32m     44\u001b[0m     sequence_name, skip_use)\n\u001b[0;32m---> 46\u001b[0m match_chromaticity(mad, dq1, dq2,\n\u001b[1;32m     47\u001b[0m     chromaticity_knob1_name, chromaticity_knob2_name,\n\u001b[1;32m     48\u001b[0m     sequence_name, skip_use)\n\u001b[1;32m     50\u001b[0m mad\u001b[39m.\u001b[39minput(\u001b[39mf\u001b[39m\u001b[39m'''\u001b[39m\n\u001b[1;32m     51\u001b[0m \u001b[39m    match,chrom;\u001b[39m\n\u001b[1;32m     52\u001b[0m \u001b[39m    global, dq1=\u001b[39m\u001b[39m{\u001b[39;00mdq1\u001b[39m}\u001b[39;00m\u001b[39m, dq2=\u001b[39m\u001b[39m{\u001b[39;00mdq2\u001b[39m}\u001b[39;00m\u001b[39m;\u001b[39m\n\u001b[0;32m   (...)\u001b[0m\n\u001b[1;32m     59\u001b[0m \u001b[39m    endmatch;\u001b[39m\n\u001b[1;32m     60\u001b[0m \u001b[39m    \u001b[39m\u001b[39m'''\u001b[39m)\n",
      "File \u001b[0;32m~/CERN-simulations/toolkit_LHC/lhcmask/pymask/tunechroma.py:25\u001b[0m, in \u001b[0;36mmatch_chromaticity\u001b[0;34m(mad, dq1, dq2, chromaticity_knob1_name, chromaticity_knob2_name, sequence_name, skip_use)\u001b[0m\n\u001b[1;32m     22\u001b[0m \u001b[39mif\u001b[39;00m \u001b[39mnot\u001b[39;00m skip_use:\n\u001b[1;32m     23\u001b[0m     mad\u001b[39m.\u001b[39muse(sequence_name)\n\u001b[0;32m---> 25\u001b[0m mad\u001b[39m.\u001b[39;49minput(\u001b[39mf\u001b[39;49m\u001b[39m'''\u001b[39;49m\n\u001b[1;32m     26\u001b[0m \u001b[39m    match, chrom;\u001b[39;49m\n\u001b[1;32m     27\u001b[0m \u001b[39m    global, dq1=\u001b[39;49m\u001b[39m{\u001b[39;49;00mdq1\u001b[39m}\u001b[39;49;00m\u001b[39m, dq2=\u001b[39;49m\u001b[39m{\u001b[39;49;00mdq2\u001b[39m}\u001b[39;49;00m\u001b[39m;\u001b[39;49m\n\u001b[1;32m     28\u001b[0m \u001b[39m    vary,   name=\u001b[39;49m\u001b[39m{\u001b[39;49;00mchromaticity_knob1_name\u001b[39m}\u001b[39;49;00m\u001b[39m;\u001b[39;49m\n\u001b[1;32m     29\u001b[0m \u001b[39m    vary,   name=\u001b[39;49m\u001b[39m{\u001b[39;49;00mchromaticity_knob2_name\u001b[39m}\u001b[39;49;00m\u001b[39m;\u001b[39;49m\n\u001b[1;32m     30\u001b[0m \u001b[39m    lmdif,  calls=100, tolerance=1.0E-21;\u001b[39;49m\n\u001b[1;32m     31\u001b[0m \u001b[39m    endmatch;\u001b[39;49m\n\u001b[1;32m     32\u001b[0m \u001b[39m    \u001b[39;49m\u001b[39m'''\u001b[39;49m)\n",
      "File \u001b[0;32m~/miniconda3/lib/python3.10/site-packages/cpymad/madx.py:300\u001b[0m, in \u001b[0;36mMadx.input\u001b[0;34m(self, text)\u001b[0m\n\u001b[1;32m    298\u001b[0m \u001b[39mtry\u001b[39;00m:\n\u001b[1;32m    299\u001b[0m     \u001b[39mwith\u001b[39;00m \u001b[39mself\u001b[39m\u001b[39m.\u001b[39mreader:\n\u001b[0;32m--> 300\u001b[0m         \u001b[39mreturn\u001b[39;00m \u001b[39mself\u001b[39;49m\u001b[39m.\u001b[39;49m_libmadx\u001b[39m.\u001b[39;49minput(text)\n\u001b[1;32m    301\u001b[0m \u001b[39mexcept\u001b[39;00m _rpc\u001b[39m.\u001b[39mRemoteProcessCrashed:\n\u001b[1;32m    302\u001b[0m     \u001b[39mraise\u001b[39;00m \u001b[39mRuntimeError\u001b[39;00m(\u001b[39m\"\u001b[39m\u001b[39mMAD-X has stopped working!\u001b[39m\u001b[39m\"\u001b[39m) \u001b[39mfrom\u001b[39;00m \u001b[39mNone\u001b[39m\n",
      "File \u001b[0;32m~/miniconda3/lib/python3.10/site-packages/minrpc/client.py:159\u001b[0m, in \u001b[0;36mRemoteModule.__getattr__.<locals>.DeferredMethod\u001b[0;34m(*args, **kwargs)\u001b[0m\n\u001b[1;32m    158\u001b[0m \u001b[39mdef\u001b[39;00m \u001b[39mDeferredMethod\u001b[39m(\u001b[39m*\u001b[39margs, \u001b[39m*\u001b[39m\u001b[39m*\u001b[39mkwargs):\n\u001b[0;32m--> 159\u001b[0m     \u001b[39mreturn\u001b[39;00m \u001b[39mself\u001b[39;49m\u001b[39m.\u001b[39;49m__client\u001b[39m.\u001b[39;49m_request(\u001b[39m'\u001b[39;49m\u001b[39mfunction_call\u001b[39;49m\u001b[39m'\u001b[39;49m, \u001b[39mself\u001b[39;49m\u001b[39m.\u001b[39;49m__module,\n\u001b[1;32m    160\u001b[0m                                   funcname, args, kwargs)\n",
      "File \u001b[0;32m~/miniconda3/lib/python3.10/site-packages/minrpc/client.py:107\u001b[0m, in \u001b[0;36mClient._request\u001b[0;34m(self, kind, *args)\u001b[0m\n\u001b[1;32m    105\u001b[0m     \u001b[39mraise\u001b[39;00m RemoteProcessCrashed()\n\u001b[1;32m    106\u001b[0m \u001b[39mtry\u001b[39;00m:\n\u001b[0;32m--> 107\u001b[0m     response \u001b[39m=\u001b[39m \u001b[39mself\u001b[39;49m\u001b[39m.\u001b[39;49m_communicate((kind, args))\n\u001b[1;32m    108\u001b[0m \u001b[39mexcept\u001b[39;00m (\u001b[39mIOError\u001b[39;00m, \u001b[39mEOFError\u001b[39;00m, \u001b[39mOSError\u001b[39;00m, \u001b[39mValueError\u001b[39;00m):\n\u001b[1;32m    109\u001b[0m     \u001b[39mself\u001b[39m\u001b[39m.\u001b[39m_good \u001b[39m=\u001b[39m \u001b[39mFalse\u001b[39;00m\n",
      "File \u001b[0;32m~/miniconda3/lib/python3.10/site-packages/minrpc/client.py:117\u001b[0m, in \u001b[0;36mClient._communicate\u001b[0;34m(self, message)\u001b[0m\n\u001b[1;32m    115\u001b[0m \u001b[39m\"\"\"Transmit one message and wait for the answer.\"\"\"\u001b[39;00m\n\u001b[1;32m    116\u001b[0m \u001b[39mself\u001b[39m\u001b[39m.\u001b[39m_conn\u001b[39m.\u001b[39msend(message)\n\u001b[0;32m--> 117\u001b[0m \u001b[39mreturn\u001b[39;00m \u001b[39mself\u001b[39;49m\u001b[39m.\u001b[39;49m_conn\u001b[39m.\u001b[39;49mrecv()\n",
      "File \u001b[0;32m~/miniconda3/lib/python3.10/site-packages/minrpc/connection.py:50\u001b[0m, in \u001b[0;36mConnection.recv\u001b[0;34m(self)\u001b[0m\n\u001b[1;32m     48\u001b[0m \u001b[39mdef\u001b[39;00m \u001b[39mrecv\u001b[39m(\u001b[39mself\u001b[39m):\n\u001b[1;32m     49\u001b[0m     \u001b[39m\"\"\"Receive a pickled message from the remote end.\"\"\"\u001b[39;00m\n\u001b[0;32m---> 50\u001b[0m     header \u001b[39m=\u001b[39m read(\u001b[39mself\u001b[39;49m\u001b[39m.\u001b[39;49m_recv, HEADER\u001b[39m.\u001b[39;49msize)\n\u001b[1;32m     51\u001b[0m     payload \u001b[39m=\u001b[39m read(\u001b[39mself\u001b[39m\u001b[39m.\u001b[39m_recv, \u001b[39m*\u001b[39mHEADER\u001b[39m.\u001b[39munpack(header))\n\u001b[1;32m     52\u001b[0m     \u001b[39mreturn\u001b[39;00m pickle\u001b[39m.\u001b[39mloads(payload)\n",
      "File \u001b[0;32m~/miniconda3/lib/python3.10/site-packages/minrpc/connection.py:83\u001b[0m, in \u001b[0;36mread\u001b[0;34m(file, size)\u001b[0m\n\u001b[1;32m     81\u001b[0m parts \u001b[39m=\u001b[39m []\n\u001b[1;32m     82\u001b[0m \u001b[39mwhile\u001b[39;00m size \u001b[39m>\u001b[39m \u001b[39m0\u001b[39m:\n\u001b[0;32m---> 83\u001b[0m     part \u001b[39m=\u001b[39m file\u001b[39m.\u001b[39;49mread(size)\n\u001b[1;32m     84\u001b[0m     \u001b[39mif\u001b[39;00m \u001b[39mnot\u001b[39;00m part:\n\u001b[1;32m     85\u001b[0m         \u001b[39mraise\u001b[39;00m \u001b[39mEOFError\u001b[39;00m\n",
      "\u001b[0;31mKeyboardInterrupt\u001b[0m: "
     ]
    }
   ],
   "source": [
    "%%capture \n",
    "# Command above needed to prevent a gigantic output\n",
    "\n",
    "# Generate the line\n",
    "tracker, line_bb_for_tracking_dict = generate_line()\n",
    "\n",
    "# Remove all the temporary files\n",
    "os.system('rm -rf final_* modules optics_repository optics_toolkit tools tracking_tools temp mad_collider.log __pycache__ twiss* errors fc* optics_orbit_at*')"
   ]
  },
  {
   "attachments": {},
   "cell_type": "markdown",
   "metadata": {},
   "source": [
    "### Track"
   ]
  },
  {
   "cell_type": "code",
   "execution_count": null,
   "metadata": {},
   "outputs": [],
   "source": [
    "track(line_bb_for_tracking_dict, df_total, 2.5e-6, 2.5e-6, 27.e-5, 100)"
   ]
  },
  {
   "cell_type": "code",
   "execution_count": 3,
   "metadata": {},
   "outputs": [
    {
     "data": {
      "text/plain": [
       "0"
      ]
     },
     "execution_count": 3,
     "metadata": {},
     "output_type": "execute_result"
    }
   ],
   "source": [
    "os.system('rm -rf final_* modules optics_repository optics_toolkit tools tracking_tools temp mad_collider.log __pycache__ twiss* errors fc* optics_orbit_at*')"
   ]
  },
  {
   "cell_type": "code",
   "execution_count": null,
   "metadata": {},
   "outputs": [],
   "source": []
  }
 ],
 "metadata": {
  "kernelspec": {
   "display_name": "base",
   "language": "python",
   "name": "python3"
  },
  "language_info": {
   "codemirror_mode": {
    "name": "ipython",
    "version": 3
   },
   "file_extension": ".py",
   "mimetype": "text/x-python",
   "name": "python",
   "nbconvert_exporter": "python",
   "pygments_lexer": "ipython3",
   "version": "3.10.8"
  },
  "orig_nbformat": 4
 },
 "nbformat": 4,
 "nbformat_minor": 2
}
