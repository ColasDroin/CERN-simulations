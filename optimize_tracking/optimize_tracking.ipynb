{
 "cells": [
  {
   "cell_type": "markdown",
   "metadata": {},
   "source": [
    "### Standard imports"
   ]
  },
  {
   "cell_type": "code",
   "execution_count": null,
   "metadata": {},
   "outputs": [],
   "source": [
    "# Standard modules\n",
    "import os\n",
    "import numpy as np\n",
    "import pandas as pd\n",
    "import matplotlib.pyplot as plt\n",
    "import seaborn as sns\n",
    "import itertools\n",
    "\n",
    "# CERN modules\n",
    "from generate_line import generate_line\n",
    "from track import track"
   ]
  },
  {
   "attachments": {},
   "cell_type": "markdown",
   "metadata": {},
   "source": [
    "### Build particles distribution"
   ]
  },
  {
   "cell_type": "code",
   "execution_count": null,
   "metadata": {},
   "outputs": [],
   "source": [
    "r_min = 2\n",
    "r_max = 10\n",
    "radial_list = np.linspace(r_min, r_max, 2*16*(r_max-r_min), endpoint=False)\n",
    "\n",
    "n_angles = 5 \n",
    "theta_list = np.linspace(0, 90, n_angles+2)[1:-1] # remove straight lines (uncoupled)\n",
    "\n",
    "particle_list = [(particle_id, l[0], l[1]) for particle_id, l in enumerate(itertools.product(radial_list, theta_list))]\n",
    "df_total = pd.DataFrame(particle_list, columns=['particle_id','normalized amplitude in xy-plane','angle in xy-plane [deg]'])\n",
    "particle_list_splitted = list(np.array_split(particle_list, 15))\n",
    "\n",
    "l_df = [pd.DataFrame(particle_part,\n",
    "                columns=['particle_id','normalized amplitude in xy-plane',\n",
    "                         'angle in xy-plane [deg]']) for particle_part in particle_list_splitted]"
   ]
  },
  {
   "attachments": {},
   "cell_type": "markdown",
   "metadata": {},
   "source": [
    "### Build line"
   ]
  },
  {
   "cell_type": "code",
   "execution_count": null,
   "metadata": {},
   "outputs": [],
   "source": [
    "%%capture \n",
    "# Command above needed to prevent a gigantic output\n",
    "\n",
    "# Generate the line\n",
    "tracker, line_bb_for_tracking_dict = generate_line()\n",
    "\n",
    "# Remove all the temporary files\n",
    "os.system('rm -rf final_* modules optics_repository optics_toolkit tools tracking_tools temp mad_collider.log __pycache__ twiss* errors fc* optics_orbit_at*')"
   ]
  },
  {
   "attachments": {},
   "cell_type": "markdown",
   "metadata": {},
   "source": [
    "### Track"
   ]
  },
  {
   "cell_type": "code",
   "execution_count": null,
   "metadata": {},
   "outputs": [],
   "source": [
    "track(line_bb_for_tracking_dict, df_total, 2.5e-6, 2.5e-6, 27.e-5, 1000)"
   ]
  },
  {
   "cell_type": "code",
   "execution_count": null,
   "metadata": {},
   "outputs": [],
   "source": []
  }
 ],
 "metadata": {
  "kernelspec": {
   "display_name": "base",
   "language": "python",
   "name": "python3"
  },
  "language_info": {
   "codemirror_mode": {
    "name": "ipython",
    "version": 3
   },
   "file_extension": ".py",
   "mimetype": "text/x-python",
   "name": "python",
   "nbconvert_exporter": "python",
   "pygments_lexer": "ipython3",
   "version": "3.10.8"
  },
  "orig_nbformat": 4
 },
 "nbformat": 4,
 "nbformat_minor": 2
}
